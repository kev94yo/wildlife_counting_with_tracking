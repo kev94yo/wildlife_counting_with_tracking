{
 "metadata": {
  "language_info": {
   "codemirror_mode": {
    "name": "ipython",
    "version": 3
   },
   "file_extension": ".py",
   "mimetype": "text/x-python",
   "name": "python",
   "nbconvert_exporter": "python",
   "pygments_lexer": "ipython3",
   "version": "3.8.5"
  },
  "orig_nbformat": 2,
  "kernelspec": {
   "name": "python3",
   "display_name": "Python 3.8.5 64-bit ('vision': conda)"
  },
  "interpreter": {
   "hash": "be8870f8d10334ff48686de7937aa7cc85f8bea9efe117ce8260aae03ea2a1ce"
  }
 },
 "nbformat": 4,
 "nbformat_minor": 2,
 "cells": [
  {
   "cell_type": "code",
   "execution_count": 1,
   "metadata": {},
   "outputs": [],
   "source": [
    "import json\n",
    "import pandas as pd\n",
    "import numpy as np\n",
    "import matplotlib.pyplot as plt\n",
    "import cv2\n",
    "from PIL import Image, ImageDraw, ImageFont\n",
    "\n",
    "\n",
    "with open('/home/stl/Vision/data/metadata/iwildcam2021_megadetector_results.json', encoding='utf-8') as json_file:\n",
    "    megadetector_results = json.load(json_file)"
   ]
  },
  {
   "cell_type": "code",
   "execution_count": 2,
   "metadata": {},
   "outputs": [
    {
     "output_type": "execute_result",
     "data": {
      "text/plain": [
       "dict_keys(['info', 'images', 'detection_categories'])"
      ]
     },
     "metadata": {},
     "execution_count": 2
    }
   ],
   "source": [
    "megadetector_results.keys()"
   ]
  },
  {
   "cell_type": "code",
   "execution_count": 3,
   "metadata": {},
   "outputs": [
    {
     "output_type": "execute_result",
     "data": {
      "text/plain": [
       "{'format_version': '1.0',\n",
       " 'detector': 'megadetector_v3',\n",
       " 'detection_completion_time': '2020-01-10 08:49:05'}"
      ]
     },
     "metadata": {},
     "execution_count": 3
    }
   ],
   "source": [
    "megadetector_results['info']"
   ]
  },
  {
   "cell_type": "code",
   "execution_count": 4,
   "metadata": {},
   "outputs": [
    {
     "output_type": "execute_result",
     "data": {
      "text/plain": [
       "                                          detections  \\\n",
       "0  [{'category': '1', 'bbox': [0.6529, 0.5425, 0....   \n",
       "1  [{'category': '1', 'bbox': [0.0147, 0.0, 0.985...   \n",
       "2                                                 []   \n",
       "3  [{'category': '1', 'bbox': [0.0, 0.4669, 0.185...   \n",
       "4  [{'category': '1', 'bbox': [0.0, 0.0494, 0.528...   \n",
       "\n",
       "                                     id  max_detection_conf  \n",
       "0  905a3c8c-21bc-11ea-a13a-137349068a90               0.999  \n",
       "1  905a3fc0-21bc-11ea-a13a-137349068a90               0.696  \n",
       "2  905a420e-21bc-11ea-a13a-137349068a90               0.000  \n",
       "3  905a4416-21bc-11ea-a13a-137349068a90               1.000  \n",
       "4  905a579e-21bc-11ea-a13a-137349068a90               0.999  "
      ],
      "text/html": "<div>\n<style scoped>\n    .dataframe tbody tr th:only-of-type {\n        vertical-align: middle;\n    }\n\n    .dataframe tbody tr th {\n        vertical-align: top;\n    }\n\n    .dataframe thead th {\n        text-align: right;\n    }\n</style>\n<table border=\"1\" class=\"dataframe\">\n  <thead>\n    <tr style=\"text-align: right;\">\n      <th></th>\n      <th>detections</th>\n      <th>id</th>\n      <th>max_detection_conf</th>\n    </tr>\n  </thead>\n  <tbody>\n    <tr>\n      <th>0</th>\n      <td>[{'category': '1', 'bbox': [0.6529, 0.5425, 0....</td>\n      <td>905a3c8c-21bc-11ea-a13a-137349068a90</td>\n      <td>0.999</td>\n    </tr>\n    <tr>\n      <th>1</th>\n      <td>[{'category': '1', 'bbox': [0.0147, 0.0, 0.985...</td>\n      <td>905a3fc0-21bc-11ea-a13a-137349068a90</td>\n      <td>0.696</td>\n    </tr>\n    <tr>\n      <th>2</th>\n      <td>[]</td>\n      <td>905a420e-21bc-11ea-a13a-137349068a90</td>\n      <td>0.000</td>\n    </tr>\n    <tr>\n      <th>3</th>\n      <td>[{'category': '1', 'bbox': [0.0, 0.4669, 0.185...</td>\n      <td>905a4416-21bc-11ea-a13a-137349068a90</td>\n      <td>1.000</td>\n    </tr>\n    <tr>\n      <th>4</th>\n      <td>[{'category': '1', 'bbox': [0.0, 0.0494, 0.528...</td>\n      <td>905a579e-21bc-11ea-a13a-137349068a90</td>\n      <td>0.999</td>\n    </tr>\n  </tbody>\n</table>\n</div>"
     },
     "metadata": {},
     "execution_count": 4
    }
   ],
   "source": [
    "megadetector_results_df = pd.DataFrame(megadetector_results[\"images\"])\n",
    "megadetector_results_df.head()"
   ]
  },
  {
   "cell_type": "code",
   "execution_count": 5,
   "metadata": {},
   "outputs": [
    {
     "output_type": "execute_result",
     "data": {
      "text/plain": [
       "dict_keys(['images', 'annotations', 'categories'])"
      ]
     },
     "metadata": {},
     "execution_count": 5
    }
   ],
   "source": [
    "with open('/home/stl/Vision/data/metadata/iwildcam2021_train_annotations.json', encoding='utf-8') as json_file:\n",
    "    train_annotations = json.load(json_file)\n",
    "\n",
    "train_annotations.keys()"
   ]
  },
  {
   "cell_type": "code",
   "execution_count": null,
   "metadata": {},
   "outputs": [],
   "source": []
  },
  {
   "source": [
    "## From HERE"
   ],
   "cell_type": "markdown",
   "metadata": {}
  },
  {
   "cell_type": "code",
   "execution_count": 26,
   "metadata": {},
   "outputs": [],
   "source": [
    "out = [] # put same video info by frames\n",
    "temp = []\n",
    "item = train_annotations['images']\n",
    "N = len(item)\n",
    "\n",
    "for i in range(N):\n",
    "    if(i != (N-1)):\n",
    "        if(item[i]['seq_id'] == item[i+1]['seq_id']):\n",
    "            temp.append(item[i])\n",
    "        if(item[i]['seq_id'] != item[i+1]['seq_id']):\n",
    "            temp.append(item[i])\n",
    "            out.append(temp)\n",
    "            temp = []\n"
   ]
  },
  {
   "cell_type": "code",
   "execution_count": 27,
   "metadata": {},
   "outputs": [],
   "source": [
    "x = []\n",
    "for temp in out:\n",
    "    a = []\n",
    "    for f in temp:\n",
    "        #print(f['seq_id'])\n",
    "        a.append(f['seq_id'])\n",
    "    x.append(a)\n",
    "\n",
    "for i in range(len(x)):\n",
    "    if(len(list(set(x[i]))) != 1):\n",
    "        print(\"False\")"
   ]
  },
  {
   "cell_type": "code",
   "execution_count": 8,
   "metadata": {},
   "outputs": [
    {
     "output_type": "execute_result",
     "data": {
      "text/plain": [
       "{'seq_num_frames': 6,\n",
       " 'location': 3,\n",
       " 'datetime': '2013-06-05 05:44:19.000',\n",
       " 'id': '8b02698a-21bc-11ea-a13a-137349068a90',\n",
       " 'seq_id': '30048d32-7d42-11eb-8fb5-0242ac1c0002',\n",
       " 'width': 1920,\n",
       " 'height': 1080,\n",
       " 'file_name': '8b02698a-21bc-11ea-a13a-137349068a90.jpg',\n",
       " 'sub_location': 0,\n",
       " 'seq_frame_num': 0}"
      ]
     },
     "metadata": {},
     "execution_count": 8
    }
   ],
   "source": []
  },
  {
   "cell_type": "code",
   "execution_count": null,
   "metadata": {},
   "outputs": [],
   "source": []
  },
  {
   "cell_type": "code",
   "execution_count": 14,
   "metadata": {},
   "outputs": [
    {
     "output_type": "stream",
     "name": "stdout",
     "text": [
      "6\n3\n3\n"
     ]
    }
   ],
   "source": [
    "print(len(out[0]))\n",
    "print(len(out[1]))\n",
    "print(len(out[2]))"
   ]
  },
  {
   "cell_type": "code",
   "execution_count": 15,
   "metadata": {},
   "outputs": [
    {
     "output_type": "stream",
     "name": "stdout",
     "text": [
      "6\n3\n3\n10\n5\n2\n6\n10\n3\n3\n10\n2\n6\n10\n2\n10\n3\n"
     ]
    }
   ],
   "source": [
    "for vid in out:\n",
    "    print(len(vid))"
   ]
  }
 ]
}